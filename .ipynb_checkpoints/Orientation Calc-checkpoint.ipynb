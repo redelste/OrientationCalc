{
 "cells": [
  {
   "cell_type": "code",
   "execution_count": 1,
   "metadata": {},
   "outputs": [],
   "source": [
    "import matplotlib.pyplot as plt\n",
    "plt.style.use('seaborn-whitegrid')\n",
    "import numpy as np\n",
    "import random as r\n",
    "from itertools import islice\n",
    "import math"
   ]
  },
  {
   "cell_type": "code",
   "execution_count": 2,
   "metadata": {
    "scrolled": true
   },
   "outputs": [
    {
     "data": {
      "text/plain": [
       "[<matplotlib.lines.Line2D at 0x7fceda2196a0>]"
      ]
     },
     "execution_count": 2,
     "metadata": {},
     "output_type": "execute_result"
    },
    {
     "data": {
      "image/png": "[encoded data removed]",
      "text/plain": [
       "<Figure size 432x288 with 1 Axes>"
      ]
     },
     "metadata": {
      "needs_background": "light"
     },
     "output_type": "display_data"
    }
   ],
   "source": [
    "fig = plt.figure()\n",
    "ax = plt.axes()\n",
    "\n",
    "x = np.linspace(0, 10, 1000000)\n",
    "ax.plot(x, np.sin(x));\n",
    "plt.plot(x,x-15)\n",
    "plt.plot(5,5, 'bo')\n",
    "\n"
   ]
  },
  {
   "cell_type": "code",
   "execution_count": 3,
   "metadata": {},
   "outputs": [],
   "source": [
    "class Point:\n",
    "    def __init__(self, x,y):\n",
    "        self.x = x\n",
    "        self.y = y\n",
    "    @staticmethod\n",
    "    def orientation(p1, p2, p3):\n",
    "        print(p1.x, p1.y, p2.x, p2.y, p3.x, p2.y)\n",
    "        val = (float(p2.y - p1.y) * (p3.x - p2.x)) - (float(p2.x - p1.x) * (p3.y - p2.y))\n",
    "        if(val > 0):\n",
    "            return 1\n",
    "        elif(val < 0):\n",
    "            return 2\n",
    "        else:\n",
    "            return 0\n",
    "\n",
    "    @staticmethod\n",
    "    def graphPoints(listOfPoints):\n",
    "        for point in range(len(listOfPoints)):\n",
    "            plt.plot(listOfPoints[point].x, listOfPoints[point].y, 'bo')\n",
    "    @staticmethod        \n",
    "    def getPiece(listOfPoints):\n",
    "        # returns a list of pairs\n",
    "        pointPairs = zip(listOfPoints[::2], listOfPoints[1::2])\n",
    "#         print(set(pointPairs))\n",
    "        return pointPairs\n",
    "#     @staticmethod\n",
    "#     def getDist(p1, p2):\n",
    "#         # gets the distance between two points\n",
    "#         diffX = p2.x - p1.x\n",
    "#         diffY = p2.y - p1.y\n",
    "#         squareX = diffX ** 2\n",
    "#         squareY = diffY ** 2\n",
    "#         dist = math.sqrt(squareX + squareY)\n",
    "#         return dist\n",
    "# ---------------------------------NON STATIC----------------------------------------\n",
    "\n",
    "    def getDist(self, point):\n",
    "        diffX = point.x - self.x\n",
    "        diffY  = point.y - self.y\n",
    "        squareX = diffX ** 2\n",
    "        squareY = diffY ** 2\n",
    "        dist = math.sqrt(squareX + squareY)\n",
    "        return dist\n",
    "    \n",
    "# ---------------------------------NON STATIC----------------------------------------\n",
    "\n",
    "    @staticmethod\n",
    "    def randGen(listRange):\n",
    "#         generates a list of single random xy pair, called points.\n",
    "        randlist = []\n",
    "        for i in range(listRange):\n",
    "            x = r.randint(1,listRange)\n",
    "            y = r.randint(1,listRange)\n",
    "            point = Point(x, y)\n",
    "            randlist.append(point)\n",
    "        return randlist\n",
    "    @staticmethod\n",
    "    def getDistances(pointList):\n",
    "        distList = []\n",
    "        # gets a list of distances, takes in a list of points.\n",
    "        for i in range(len(pointList)):\n",
    "            if Point.getDist(pointList[i], pointList[i-1]) == 5:\n",
    "                distList.append(randlist[i])\n",
    "            else:\n",
    "                Point.randGen(pointList)\n",
    "            if len(distList) == 10:\n",
    "                return distList\n",
    "    @staticmethod\n",
    "    def graphMulti(num):\n",
    "        # calls the graph points function with the random generated point.\n",
    "        # Need to refactor --> randGen should generate more than 1 point,\n",
    "        # but this is an easier solution for now. \n",
    "        for i in range(num):\n",
    "#           print(Point.randGen(num))\n",
    "            Point.graphPoints(Point.randGen(num))\n",
    "    @staticmethod\n",
    "    def setPieces(num):\n",
    "        # get a set of pieces, or a pair of points\n",
    "        # a pair of points in this case represents a line.\n",
    "        for i in range(num):\n",
    "            Point.getPiece(Point.randGen(num))\n",
    "            \n",
    "    def __str__(self):\n",
    "        return f\"Point({self.x}, {self.y})\"\n",
    "#  NEW CLASS\n",
    "class ManPoints:\n",
    "    def __init__(self, listOfPoints):\n",
    "        self.listOfPoints = listOfPoints\n",
    "    def printList(self):\n",
    "        for p in self.listOfPoints: \n",
    "            print(self.listOfPoints)\n",
    "    def getPairs(self):\n",
    "        pointPairs = zip(self.listOfPoints[::2], self.listOfPoints[1::2])\n",
    "        return pointPairs\n",
    "    def graphPoints(self):\n",
    "        for point in range(len(self.listOfPoints)):\n",
    "            plt.plot(self.listOfPoints[point].x, self.listOfPoints[point].y, 'bo')\n",
    "    def getDistances(self):\n",
    "        distList = []\n",
    "        pairs = self.getPairs()\n",
    "        for a,b in pairs:\n",
    "            distList.append(a.getDist(b))\n",
    "        return distList\n",
    "    def __str__(self):\n",
    "        return \"\\n\".join([p.__str__() for p in self.listOfPoints])\n",
    "    "
   ]
  },
  {
   "cell_type": "code",
   "execution_count": 4,
   "metadata": {},
   "outputs": [
    {
     "name": "stdout",
     "output_type": "stream",
     "text": [
      "0 0 4 4 1 4\n",
      "CounterClockwise\n",
      "Point(0, 0)\n",
      "----- Point(10, 7)\n",
      "Point(3, 4)\n",
      "Point(7, 7)\n",
      "Point(5, 9)\n",
      "Point(10, 1)\n",
      "Point(5, 2)\n",
      "Point(6, 2)\n",
      "Point(7, 5)\n",
      "Point(6, 8)\n",
      "Point(10, 8) -----\n"
     ]
    }
   ],
   "source": [
    "p1 = Point(0,0)\n",
    "p2 = Point(4,4)\n",
    "p3 = Point(1,2)\n",
    "\n",
    "mp = ManPoints(Point.randGen(10))\n",
    "o = Point.orientation(p1,p2,p3)\n",
    "\n",
    "\n",
    "\n",
    "\n",
    "testListOfPoints = [p1, p2, p3]\n",
    "listOfPoints = [[0,1],[3,4],[5,6]]\n",
    "\n",
    "\n",
    "\n",
    "if(o == 0):\n",
    "    print(\"Linear\")\n",
    "elif(o == 1):\n",
    "    print(\"Clockwise\")\n",
    "else:\n",
    "    print(\"CounterClockwise\")\n",
    "    \n",
    "Point.getDist(p1,p2)\n",
    "\n",
    "print(p1)\n",
    "print(\"-----\",mp, \"-----\")\n"
   ]
  },
  {
   "cell_type": "code",
   "execution_count": 5,
   "metadata": {},
   "outputs": [
    {
     "data": {
      "text/plain": [
       "[<matplotlib.lines.Line2D at 0x7fcea9843668>]"
      ]
     },
     "execution_count": 5,
     "metadata": {},
     "output_type": "execute_result"
    },
    {
     "data": {
      "image/png": "[encoded data removed]",
      "text/plain": [
       "<Figure size 432x288 with 1 Axes>"
      ]
     },
     "metadata": {
      "needs_background": "light"
     },
     "output_type": "display_data"
    }
   ],
   "source": [
    "point1 = [0,0]\n",
    "point2 = [3,4]\n",
    "point3 = [5,6]\n",
    "x_values = [point1[0], point2[0]]\n",
    "y_values = [point1[1],point2[1]]\n",
    "\n",
    "plt.plot(x_values, y_values)"
   ]
  },
  {
   "cell_type": "code",
   "execution_count": 6,
   "metadata": {},
   "outputs": [
    {
     "data": {
      "text/plain": [
       "[7.615773105863909,\n",
       " 2.8284271247461903,\n",
       " 5.0990195135927845,\n",
       " 3.1622776601683795,\n",
       " 4.0]"
      ]
     },
     "execution_count": 6,
     "metadata": {},
     "output_type": "execute_result"
    },
    {
     "data": {
      "image/png": "[encoded data removed]",
      "text/plain": [
       "<Figure size 432x288 with 1 Axes>"
      ]
     },
     "metadata": {
      "needs_background": "light"
     },
     "output_type": "display_data"
    }
   ],
   "source": [
    "\n",
    "#     if randlist == [] or len(randlist) == 1:\n",
    "#         print(\"TEST\")\n",
    "#         randlist.append(point)\n",
    "#     if randlist != [] or len(randlist) >= 1:    \n",
    "#         randlist.append(point)\n",
    "#         print(\"here\")\n",
    "#         print(len(randlist), \"length\")\n",
    "#         print(randlist[i])\n",
    "        \n",
    "#     print(randlist[i-1])\n",
    "#     elif Point.getDist(randlist[i], randlist[i-1]) == 5:\n",
    "#         randlist.append(point)\n",
    "#     else:\n",
    "#         x = r.randint(1,10)\n",
    "#         y = r.randint(1,10)\n",
    "# Point.graphMulti(10)\n",
    "# Point.setPieces(10)\n",
    "\n",
    "\n",
    "mp.graphPoints()\n",
    "# mp.getPairs()\n",
    "mp.getDistances()"
   ]
  },
  {
   "cell_type": "markdown",
   "metadata": {},
   "source": [
    "# Get Slopes of each line"
   ]
  },
  {
   "cell_type": "code",
   "execution_count": null,
   "metadata": {},
   "outputs": [],
   "source": []
  },
  {
   "cell_type": "code",
   "execution_count": null,
   "metadata": {},
   "outputs": [],
   "source": []
  }
 ],
 "metadata": {
  "kernelspec": {
   "display_name": "Python 3",
   "language": "python",
   "name": "python3"
  },
  "language_info": {
   "codemirror_mode": {
    "name": "ipython",
    "version": 3
   },
   "file_extension": ".py",
   "mimetype": "text/x-python",
   "name": "python",
   "nbconvert_exporter": "python",
   "pygments_lexer": "ipython3",
   "version": "3.6.9"
  }
 },
 "nbformat": 4,
 "nbformat_minor": 2
}
